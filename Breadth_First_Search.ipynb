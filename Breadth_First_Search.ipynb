{
  "nbformat": 4,
  "nbformat_minor": 0,
  "metadata": {
    "colab": {
      "provenance": [],
      "collapsed_sections": [
        "mAsAgTe-NcU9"
      ],
      "include_colab_link": true
    },
    "kernelspec": {
      "name": "python3",
      "display_name": "Python 3"
    },
    "language_info": {
      "name": "python"
    }
  },
  "cells": [
    {
      "cell_type": "markdown",
      "metadata": {
        "id": "view-in-github",
        "colab_type": "text"
      },
      "source": [
        "<a href=\"https://colab.research.google.com/github/devJuanMiarelli/BFS-Busca-cega-em-largura/blob/main/Breadth_First_Search.ipynb\" target=\"_parent\"><img src=\"https://colab.research.google.com/assets/colab-badge.svg\" alt=\"Open In Colab\"/></a>"
      ]
    },
    {
      "cell_type": "markdown",
      "source": [
        "# **Gerar Grafo**"
      ],
      "metadata": {
        "id": "U9XFERJmKggk"
      }
    },
    {
      "cell_type": "code",
      "source": [
        "import networkx as nx\n",
        "import matplotlib.pyplot as plt"
      ],
      "metadata": {
        "id": "KSxisKUJGqoV"
      },
      "execution_count": null,
      "outputs": []
    },
    {
      "cell_type": "markdown",
      "source": [
        "Função para criar um grafo"
      ],
      "metadata": {
        "id": "1lb4CCNsNCY2"
      }
    },
    {
      "cell_type": "code",
      "source": [
        "def criar_grafo():\n",
        "    G = nx.Graph()\n",
        "\n",
        "    # Adiciona nós\n",
        "    G.add_nodes_from([\"A\", \"B\", \"C\", \"D\", \"E\"])\n",
        "\n",
        "    # Adiciona arestas\n",
        "    G.add_edges_from([(\"A\", \"B\"), (\"B\", \"D\"), (\"B\", \"E\"), (\"E\", \"H\"), (\"A\", \"C\"), (\"C\", \"F\"), (\"C\", \"G\"), (\"A\", \"I\"), (\"I\", \"J\"), (\"J\", \"K\"), (\"J\", \"L\")])\n",
        "\n",
        "    return G"
      ],
      "metadata": {
        "id": "7nAAV27HMyYD"
      },
      "execution_count": null,
      "outputs": []
    },
    {
      "cell_type": "markdown",
      "source": [
        "Função para desenhar o grafo"
      ],
      "metadata": {
        "id": "GPX09VWjNFex"
      }
    },
    {
      "cell_type": "code",
      "source": [
        "def desenhar_grafo(grafo):\n",
        "    pos = nx.spring_layout(grafo)  # Define a posição dos nós\n",
        "    nx.draw(grafo, pos, with_labels=True, font_weight='bold', node_size=700, node_color='skyblue', font_size=10)\n",
        "    plt.show()"
      ],
      "metadata": {
        "id": "-Yxd6vtWM5xP"
      },
      "execution_count": null,
      "outputs": []
    },
    {
      "cell_type": "markdown",
      "source": [
        "Criar um grafo de exemplo"
      ],
      "metadata": {
        "id": "-UMeyoGGNJGM"
      }
    },
    {
      "cell_type": "code",
      "source": [
        "grafo_ = criar_grafo()"
      ],
      "metadata": {
        "id": "zrOd8qWPM7y-"
      },
      "execution_count": null,
      "outputs": []
    },
    {
      "cell_type": "markdown",
      "source": [
        "Desenhar o grafo"
      ],
      "metadata": {
        "id": "KfnuLdg5NMeg"
      }
    },
    {
      "cell_type": "code",
      "source": [
        "desenhar_grafo(grafo_)"
      ],
      "metadata": {
        "colab": {
          "base_uri": "https://localhost:8080/",
          "height": 516
        },
        "id": "zQwcwrrIM9d6",
        "outputId": "f5e0e789-daae-49f6-b2a3-af7abd94e56e"
      },
      "execution_count": null,
      "outputs": [
        {
          "output_type": "display_data",
          "data": {
            "text/plain": [
              "<Figure size 640x480 with 1 Axes>"
            ],
            "image/png": "[encoded data removed]"
          },
          "metadata": {}
        }
      ]
    },
    {
      "cell_type": "markdown",
      "source": [
        "# **Algoritmo de Busca - \"Busca Cega\"**"
      ],
      "metadata": {
        "id": "mAsAgTe-NcU9"
      }
    },
    {
      "cell_type": "code",
      "source": [
        "from collections import deque"
      ],
      "metadata": {
        "id": "nXKUxTURJ3kV"
      },
      "execution_count": null,
      "outputs": []
    },
    {
      "cell_type": "markdown",
      "source": [
        "Função para detectar o menor caminho à ser percorrido:"
      ],
      "metadata": {
        "id": "89sHJvigKdbL"
      }
    },
    {
      "cell_type": "code",
      "execution_count": null,
      "metadata": {
        "id": "Yxv78LJJF2es"
      },
      "outputs": [],
      "source": [
        "def busca_largura(grafo, inicio, objetivo):\n",
        "    fila = deque([(inicio, [inicio])])\n",
        "    print(str(fila))\n",
        "\n",
        "    while fila:\n",
        "        (vertice, caminho) = fila.popleft()\n",
        "        print(\"vertice: \" + str(vertice))\n",
        "        print(\"caminho: \" + str(caminho))\n",
        "        for vizinho in grafo[vertice]:\n",
        "            print(\"vizinho: \" + str(vizinho))\n",
        "            if vizinho not in caminho:\n",
        "                if vizinho == objetivo:\n",
        "                    return caminho + [vizinho]\n",
        "                else:\n",
        "                    fila.append((vizinho, caminho + [vizinho]))\n",
        "\n",
        "\n",
        "\n"
      ]
    },
    {
      "cell_type": "code",
      "source": [
        "fila = deque([('A', ['A'])])\n",
        "print(str(fila))\n",
        "(vertice, caminho) = fila.popleft()\n",
        "print(str((vertice, caminho)))\n",
        "\n",
        "\n"
      ],
      "metadata": {
        "colab": {
          "base_uri": "https://localhost:8080/"
        },
        "id": "exVI9yFcLOJ8",
        "outputId": "5f955685-9d56-481f-b8ca-78bb9f852946"
      },
      "execution_count": null,
      "outputs": [
        {
          "output_type": "stream",
          "name": "stdout",
          "text": [
            "deque([('A', ['A'])])\n",
            "('A', ['A'])\n"
          ]
        }
      ]
    },
    {
      "cell_type": "markdown",
      "source": [
        "Chamar a função para poder encontrar o menor caminho para poder chegar até o objetivo esperado."
      ],
      "metadata": {
        "id": "d-hJ5lObKHv8"
      }
    },
    {
      "cell_type": "code",
      "source": [
        "resultado = busca_largura(grafo_, 'A', 'H')\n",
        "print(\"Caminho mais curto:\", resultado)"
      ],
      "metadata": {
        "colab": {
          "base_uri": "https://localhost:8080/"
        },
        "id": "i2kZMZkPKCtc",
        "outputId": "b4d4843f-2395-4771-93cb-12d9147d3b4a"
      },
      "execution_count": null,
      "outputs": [
        {
          "output_type": "stream",
          "name": "stdout",
          "text": [
            "deque([('A', ['A'])])\n",
            "vertice: A\n",
            "caminho: ['A']\n",
            "vizinho: B\n",
            "vizinho: C\n",
            "vizinho: I\n",
            "vertice: B\n",
            "caminho: ['A', 'B']\n",
            "vizinho: A\n",
            "vizinho: D\n",
            "vizinho: E\n",
            "vertice: C\n",
            "caminho: ['A', 'C']\n",
            "vizinho: A\n",
            "vizinho: F\n",
            "vizinho: G\n",
            "vertice: I\n",
            "caminho: ['A', 'I']\n",
            "vizinho: A\n",
            "vizinho: J\n",
            "vertice: D\n",
            "caminho: ['A', 'B', 'D']\n",
            "vizinho: B\n",
            "vertice: E\n",
            "caminho: ['A', 'B', 'E']\n",
            "vizinho: B\n",
            "vizinho: H\n",
            "Caminho mais curto: ['A', 'B', 'E', 'H']\n"
          ]
        }
      ]
    }
  ]
}